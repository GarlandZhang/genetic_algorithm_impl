{
 "cells": [
  {
   "cell_type": "code",
   "execution_count": 1,
   "metadata": {},
   "outputs": [],
   "source": [
    "import numpy as np\n",
    "import math\n",
    "import random\n",
    "import cv2"
   ]
  },
  {
   "cell_type": "code",
   "execution_count": 2,
   "metadata": {},
   "outputs": [],
   "source": [
    "def calc_dist(city1, city2):\n",
    "    return math.sqrt((city1.x - city2.x)**2 + (city1.y - city2.y)**2)"
   ]
  },
  {
   "cell_type": "code",
   "execution_count": 3,
   "metadata": {},
   "outputs": [],
   "source": [
    "class City:\n",
    "    def __init__(self, x=None, y=None):\n",
    "        if x is None:\n",
    "            self.x = int(random.uniform(0, width))\n",
    "            self.y = int(random.uniform(0, height))\n",
    "        else:\n",
    "            self.x = x\n",
    "            self.y = y"
   ]
  },
  {
   "cell_type": "code",
   "execution_count": 4,
   "metadata": {},
   "outputs": [],
   "source": [
    "class Path:\n",
    "    def __init__(self):\n",
    "        self.order = [i for i in range(num_cities)]\n",
    "        random.shuffle(self.order)\n",
    "        self.fitness = None\n",
    "        \n",
    "    def calc_fitness(self):\n",
    "        total_dist = 0\n",
    "        for i in range(len(self.order) - 1):\n",
    "            city1 = cities[self.order[i]]\n",
    "            city2 = cities[self.order[i + 1]]\n",
    "            dist = calc_dist(city1, city2)\n",
    "            total_dist += dist\n",
    "        if total_dist == 0:\n",
    "            import pdb; pdb.set_trace()\n",
    "        self.fitness = 1 / total_dist\n",
    "        return self.fitness\n",
    "    \n",
    "    def mutate(self):\n",
    "        ind1 = int(random.uniform(0, num_cities))\n",
    "        ind2 = int(random.uniform(0, num_cities))\n",
    "        # swap\n",
    "        temp = self.order[ind1]\n",
    "        self.order[ind1] = self.order[ind2]\n",
    "        self.order[ind2]= temp\n",
    "            "
   ]
  },
  {
   "cell_type": "code",
   "execution_count": 5,
   "metadata": {},
   "outputs": [],
   "source": [
    "class Population:\n",
    "    def __init__(self):\n",
    "        self.paths = [Path() for i in range(pop_size)]\n",
    "        self.best_path = self.paths[0]\n",
    "        self.best_fit = self.paths[0].calc_fitness()\n",
    "        \n",
    "    def run(self):\n",
    "        for path in self.paths:\n",
    "            fitness = path.calc_fitness()\n",
    "            if fitness > self.best_fit:\n",
    "                self.best_fit = fitness\n",
    "                self.best_path = path\n",
    "                \n",
    "    def evaluate(self):\n",
    "        mating_pool = []\n",
    "        for path in self.paths:\n",
    "            num = int(math.pow(path.fitness / self.best_fit, 2) * 100)\n",
    "            for i in range(num):\n",
    "                mating_pool.append(path)\n",
    "        self.mating_pool = mating_pool\n",
    "        \n",
    "    def selection(self):\n",
    "        new_paths = []\n",
    "        for i in range(pop_size):\n",
    "            mate = self.mating_pool[int(random.uniform(0, len(self.mating_pool)))]\n",
    "            val = random.uniform(0, 1)\n",
    "            if val < mut_rate:\n",
    "                mate.mutate()\n",
    "            new_paths.append(mate)\n",
    "        self.paths = new_paths\n",
    "        \n",
    "        # reset other params\n",
    "        self.best_path = self.paths[0]\n",
    "        self.best_fit = self.paths[0].calc_fitness()            \n",
    "                "
   ]
  },
  {
   "cell_type": "code",
   "execution_count": 16,
   "metadata": {},
   "outputs": [],
   "source": [
    "def get_cities(num_cities):\n",
    "    cities = []\n",
    "    cities_dict = {}\n",
    "    count = 0\n",
    "    while count != num_cities:\n",
    "        x = int(random.uniform(city_thickness * 3, width - city_thickness * 3))\n",
    "        y = int(random.uniform(city_thickness * 3, height - city_thickness * 3))\n",
    "        if x not in cities_dict:\n",
    "            cities.append(City(x, y))\n",
    "            cities_dict[x] = { y: True }\n",
    "            count += 1\n",
    "        elif y not in cities_dict:\n",
    "            cities.append(City(x, y))\n",
    "            cities_dict[x][y] = True\n",
    "            count += 1\n",
    "    return cities"
   ]
  },
  {
   "cell_type": "code",
   "execution_count": 30,
   "metadata": {},
   "outputs": [],
   "source": [
    "width = 500\n",
    "height = 500\n",
    "num_cities = 10\n",
    "pop_size = 1000\n",
    "mut_rate = 0.1\n",
    "city_thickness = 3"
   ]
  },
  {
   "cell_type": "code",
   "execution_count": 31,
   "metadata": {},
   "outputs": [],
   "source": [
    "generations = 0\n",
    "cities = get_cities(num_cities)\n",
    "population = Population()\n",
    "\n",
    "total_best_fit = None\n",
    "total_best_order = None\n",
    "\n",
    "while True:\n",
    "    population.run()\n",
    "    population.evaluate()\n",
    "    population.selection()\n",
    "    \n",
    "    # set up display\n",
    "    canvas = np.zeros((height, width))\n",
    "    for city in cities:\n",
    "        canvas[city.y - city_thickness:city.y + city_thickness, city.x - city_thickness: city.x + city_thickness] = 1\n",
    "    \n",
    "    # visualize\n",
    "    fit = population.best_fit\n",
    "    path = population.best_path\n",
    "    if total_best_fit is None or fit > total_best_fit:\n",
    "        total_best_fit = fit\n",
    "        total_best_order = path.order.copy()\n",
    "        \n",
    "    order = total_best_order\n",
    "    for i in range(num_cities - 1):\n",
    "        city1 = cities[order[i]]\n",
    "        city2 = cities[order[i + 1]]\n",
    "        # draw line\n",
    "        cv2.line(canvas, (city1.x, city1.y), (city2.x, city2.y), (255, 0, 0), thickness=2)\n",
    "        \n",
    "        # draw order\n",
    "        cv2.putText(canvas, str(i), (city1.x, city1.y - 3), cv2.FONT_HERSHEY_COMPLEX, 0.5, (255, 0, 0), 1)\n",
    "    \n",
    "    # draw order\n",
    "    cv2.putText(canvas, str(num_cities - 1), (cities[order[-1]].x, cities[order[-1]].y - 3), cv2.FONT_HERSHEY_COMPLEX, 0.5, (255, 0, 0), 1)\n",
    "    \n",
    "    # put generation\n",
    "    cv2.putText(canvas, 'Generation: {}'.format(generations), (20, 20), cv2.FONT_HERSHEY_COMPLEX,0.5,(255,0,0),1)\n",
    "    cv2.putText(canvas, 'Fitness: {}'.format(total_best_fit), (20, 45), cv2.FONT_HERSHEY_COMPLEX,0.5,(255,0,0),1)\n",
    "    \n",
    "    # display\n",
    "    cv2.imshow('canvas', canvas)\n",
    "    \n",
    "    k = cv2.waitKey(30) & 0xFF\n",
    "    if k == ord('q'):\n",
    "        break\n",
    "    \n",
    "    generations += 1\n",
    "\n",
    "cv2.destroyAllWindows()"
   ]
  },
  {
   "cell_type": "code",
   "execution_count": null,
   "metadata": {},
   "outputs": [],
   "source": []
  },
  {
   "cell_type": "code",
   "execution_count": null,
   "metadata": {},
   "outputs": [],
   "source": []
  },
  {
   "cell_type": "code",
   "execution_count": null,
   "metadata": {},
   "outputs": [],
   "source": []
  }
 ],
 "metadata": {
  "kernelspec": {
   "display_name": "'Python Interactive'",
   "language": "python",
   "name": "b1f5ecc2-9402-4694-868a-a87391986ff5"
  },
  "language_info": {
   "codemirror_mode": {
    "name": "ipython",
    "version": 3
   },
   "file_extension": ".py",
   "mimetype": "text/x-python",
   "name": "python",
   "nbconvert_exporter": "python",
   "pygments_lexer": "ipython3",
   "version": "3.6.8"
  }
 },
 "nbformat": 4,
 "nbformat_minor": 2
}
