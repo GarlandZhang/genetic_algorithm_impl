{
 "cells": [
  {
   "cell_type": "code",
   "execution_count": 12,
   "metadata": {},
   "outputs": [],
   "source": [
    "import math\n",
    "import numpy as np\n",
    "import random\n",
    "import time"
   ]
  },
  {
   "cell_type": "code",
   "execution_count": 13,
   "metadata": {},
   "outputs": [],
   "source": [
    "class Element:\n",
    "    def __init__(self):\n",
    "        self.sequence = [chr(val) for val in np.random.choice(range(97, 122), 7)]\n",
    "        self.fitness = None"
   ]
  },
  {
   "cell_type": "code",
   "execution_count": 14,
   "metadata": {},
   "outputs": [],
   "source": [
    "def calc_fitness(elem):\n",
    "    sequence = elem.sequence\n",
    "    elem.fitness = 0\n",
    "    for i, target in enumerate(solution):\n",
    "        if sequence[i] == target:\n",
    "            elem.fitness += 1\n",
    "    elem.fitness = math.pow(elem.fitness, 2) + 0.01 # add 0.01 in cases where fitness is 0\n",
    "    return elem.fitness"
   ]
  },
  {
   "cell_type": "code",
   "execution_count": 15,
   "metadata": {},
   "outputs": [],
   "source": [
    "def mate(dad, mom):\n",
    "    mid = len(dad.sequence) // 2\n",
    "    child = Element()\n",
    "    child.sequence[0:mid] = dad.sequence[0:mid]\n",
    "    child.sequence[mid:] = mom.sequence[mid:]\n",
    "    return child"
   ]
  },
  {
   "cell_type": "code",
   "execution_count": 16,
   "metadata": {},
   "outputs": [],
   "source": [
    "def mutate(elem, mut_rate):\n",
    "    for i in range(len(elem.sequence)):\n",
    "        val = random.uniform(0, 1)\n",
    "        if val < mut_rate:\n",
    "            elem.sequence[i] = chr(np.random.choice(range(97, 122)))"
   ]
  },
  {
   "cell_type": "code",
   "execution_count": 20,
   "metadata": {},
   "outputs": [],
   "source": [
    "def accept_reject(population, max_fitness):\n",
    "    thresh = 0\n",
    "    while True:\n",
    "        ind = int(random.uniform(0, len(population)))\n",
    "        val = int(random.uniform(0, max_fitness))\n",
    "        partner = population[ind]\n",
    "        fitness = partner.fitness\n",
    "        if fitness > val:\n",
    "            return partner\n",
    "        thresh += 1\n",
    "        if thresh > 10000:\n",
    "            return"
   ]
  },
  {
   "cell_type": "code",
   "execution_count": 21,
   "metadata": {},
   "outputs": [],
   "source": [
    "solution = \"molotov\"\n",
    "pop_size = 1000\n",
    "mut_rate = 0.1"
   ]
  },
  {
   "cell_type": "code",
   "execution_count": 23,
   "metadata": {},
   "outputs": [
    {
     "name": "stdout",
     "output_type": "stream",
     "text": [
      "Found molotov on generation: 9\n"
     ]
    }
   ],
   "source": [
    "generations = 0\n",
    "population = [Element() for i in range(pop_size)]\n",
    "\n",
    "while True:\n",
    "#     print('Generation: {}'.format(generations))\n",
    "    \n",
    "    start_time = time.time()\n",
    "    # calculate fitness and get max\n",
    "    max_elem = None\n",
    "    max_fitness = 0\n",
    "    for elem in population:\n",
    "        fitness = calc_fitness(elem)\n",
    "        if fitness > max_fitness:\n",
    "            max_elem = elem\n",
    "            max_fitness = fitness\n",
    "\n",
    "#     print('Calculate Fitness: {}'.format(time.time() - start_time))\n",
    "\n",
    "    new_population = []\n",
    "    \n",
    "    # mate\n",
    "    for i in range(len(population)):\n",
    "        dad = accept_reject(population, max_fitness)\n",
    "        mom = accept_reject(population, max_fitness)\n",
    "        child = mate(dad, mom)\n",
    "        mutate(child, mut_rate)\n",
    "        new_population.append(child)\n",
    "\n",
    "    population = new_population\n",
    "    \n",
    "#     print('Mate: {}'.format(time.time() - start_time))\n",
    "            \n",
    "    start_time = time.time()\n",
    "    found = False\n",
    "    # evaluate\n",
    "    for elem in population:\n",
    "        fitness = calc_fitness(elem)\n",
    "        if fitness >= math.pow(len(solution), 2):\n",
    "            print('Found {} on generation: {}'.format(''.join(elem.sequence), generations))\n",
    "            found = True\n",
    "            break\n",
    "    \n",
    "    if found:\n",
    "        break\n",
    "        \n",
    "    \n",
    "#     print('Evaluate: {}'.format(time.time() - start_time))\n",
    "            \n",
    "    start_time = time.time()\n",
    "#     print('Max fitness so far: {} with fitness: {}'.format(''.join(max_elem.sequence), max_fitness)) \n",
    "    \n",
    "    generations += 1"
   ]
  },
  {
   "cell_type": "code",
   "execution_count": null,
   "metadata": {},
   "outputs": [],
   "source": []
  },
  {
   "cell_type": "code",
   "execution_count": null,
   "metadata": {},
   "outputs": [],
   "source": []
  }
 ],
 "metadata": {
  "kernelspec": {
   "display_name": "'Python Interactive'",
   "language": "python",
   "name": "b1f5ecc2-9402-4694-868a-a87391986ff5"
  },
  "language_info": {
   "codemirror_mode": {
    "name": "ipython",
    "version": 3
   },
   "file_extension": ".py",
   "mimetype": "text/x-python",
   "name": "python",
   "nbconvert_exporter": "python",
   "pygments_lexer": "ipython3",
   "version": "3.6.8"
  }
 },
 "nbformat": 4,
 "nbformat_minor": 2
}
