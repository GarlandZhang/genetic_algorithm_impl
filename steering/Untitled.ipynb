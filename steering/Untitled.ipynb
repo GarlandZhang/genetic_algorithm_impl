{
 "cells": [
  {
   "cell_type": "code",
   "execution_count": 92,
   "metadata": {},
   "outputs": [],
   "source": [
    "import math\n",
    "import cv2\n",
    "import numpy as np\n",
    "import time\n",
    "import random as rand\n",
    "from operator import add, mul, sub"
   ]
  },
  {
   "cell_type": "code",
   "execution_count": 48,
   "metadata": {},
   "outputs": [],
   "source": [
    "def is_border(canvas, height, width, c, r):\n",
    "    return c == 0 or c == width - 1 or r == 0 or r == height - 1 or canvas[r - 1][c - 1] == 0 or canvas[r - 1][c] == 0 or canvas[r - 1][c + 1] == 0 or canvas[r][c - 1] == 0 or canvas[r][c + 1] == 0 or canvas[r + 1][c - 1] == 0 or canvas[r + 1][c] == 0 or canvas[r + 1][c + 1] == 0\n",
    "\n",
    "def text_to_points(canvas):\n",
    "    points = []\n",
    "    height, width = canvas.shape\n",
    "    for r in range(height):\n",
    "        for c in range(width):\n",
    "            if canvas[r][c] > 0 and is_border(canvas, height, width, c, r):\n",
    "                points.append((c, r))\n",
    "    return points"
   ]
  },
  {
   "cell_type": "code",
   "execution_count": 115,
   "metadata": {},
   "outputs": [],
   "source": [
    "class Vehicle:\n",
    "    def __init__(self, x, y):\n",
    "        self.pos = [x, y]\n",
    "        self.target = [x, y]\n",
    "        self.vel = [rand.uniform(-1, 1), rand.uniform(-1, 1)]\n",
    "        self.acc = [0, 0]\n",
    "        self.r = 8\n",
    "        self.max_speed = 4\n",
    "        \n",
    "    def update(self):\n",
    "        self.pos = list(map(add, self.pos, self.vel))\n",
    "        self.vel = list(map(add, self.vel, self.acc))\n",
    "        self.acc = [0, 0]\n",
    "        \n",
    "    def draw(self, canvas):\n",
    "        height, width = canvas.shape\n",
    "        if self.pos[0] >= 0 and self.pos[0] < width and self.pos[1] >= 0 and self.pos[1] < height:\n",
    "            canvas[int(self.pos[1]), int(self.pos[0])] = 255.0\n",
    "            \n",
    "    def behaviors(self):\n",
    "        arrive = self.arrive(self.target)\n",
    "        self.apply_force(arrive)\n",
    "        \n",
    "    def apply_force(self, seek):\n",
    "        self.acc = list(map(add, self.acc, seek))\n",
    "        \n",
    "    def arrive(self, target):\n",
    "        raw = list(map(sub, target, self.pos))\n",
    "        mag = math.sqrt(raw[0]**2 + raw[1]**2)\n",
    "        speed = self.max_speed\n",
    "        if mag < 5:\n",
    "            speed = mag / 5 * self.max_speed\n",
    "        scale = speed / mag\n",
    "        for i, val in enumerate(raw):\n",
    "            raw[i] *= scale\n",
    "        steer = list(map(sub, raw, self.vel))\n",
    "        return steer        \n",
    "        \n",
    "    def seek(self, target):\n",
    "        if target == self.pos:\n",
    "            return [0, 0]\n",
    "        \n",
    "        raw = list(map(sub, target, self.pos))\n",
    "        mag = math.sqrt(raw[0]**2 + raw[1]**2)\n",
    "        scale = self.max_speed / mag\n",
    "        for i, val in enumerate(raw):\n",
    "            raw[i] *= scale\n",
    "        steer = list(map(sub, raw, self.vel))\n",
    "        return steer\n"
   ]
  },
  {
   "cell_type": "code",
   "execution_count": 116,
   "metadata": {},
   "outputs": [
    {
     "ename": "ZeroDivisionError",
     "evalue": "float division by zero",
     "output_type": "error",
     "traceback": [
      "\u001b[1;31m---------------------------------------------------------------------------\u001b[0m",
      "\u001b[1;31mZeroDivisionError\u001b[0m                         Traceback (most recent call last)",
      "\u001b[1;32m<ipython-input-116-ee0e4b2269f4>\u001b[0m in \u001b[0;36m<module>\u001b[1;34m\u001b[0m\n\u001b[0;32m     12\u001b[0m     \u001b[0mcanvas\u001b[0m \u001b[1;33m=\u001b[0m \u001b[0mnp\u001b[0m\u001b[1;33m.\u001b[0m\u001b[0mzeros\u001b[0m\u001b[1;33m(\u001b[0m\u001b[1;33m(\u001b[0m\u001b[0mheight\u001b[0m\u001b[1;33m,\u001b[0m \u001b[0mwidth\u001b[0m\u001b[1;33m)\u001b[0m\u001b[1;33m)\u001b[0m\u001b[1;33m\u001b[0m\u001b[1;33m\u001b[0m\u001b[0m\n\u001b[0;32m     13\u001b[0m     \u001b[1;32mfor\u001b[0m \u001b[0mi\u001b[0m\u001b[1;33m,\u001b[0m \u001b[0mvehicle\u001b[0m \u001b[1;32min\u001b[0m \u001b[0menumerate\u001b[0m\u001b[1;33m(\u001b[0m\u001b[0mvehicles\u001b[0m\u001b[1;33m)\u001b[0m\u001b[1;33m:\u001b[0m\u001b[1;33m\u001b[0m\u001b[1;33m\u001b[0m\u001b[0m\n\u001b[1;32m---> 14\u001b[1;33m         \u001b[0mvehicle\u001b[0m\u001b[1;33m.\u001b[0m\u001b[0mbehaviors\u001b[0m\u001b[1;33m(\u001b[0m\u001b[1;33m)\u001b[0m\u001b[1;33m\u001b[0m\u001b[1;33m\u001b[0m\u001b[0m\n\u001b[0m\u001b[0;32m     15\u001b[0m         \u001b[0mvehicle\u001b[0m\u001b[1;33m.\u001b[0m\u001b[0mupdate\u001b[0m\u001b[1;33m(\u001b[0m\u001b[1;33m)\u001b[0m\u001b[1;33m\u001b[0m\u001b[1;33m\u001b[0m\u001b[0m\n\u001b[0;32m     16\u001b[0m         \u001b[0mvehicle\u001b[0m\u001b[1;33m.\u001b[0m\u001b[0mdraw\u001b[0m\u001b[1;33m(\u001b[0m\u001b[0mcanvas\u001b[0m\u001b[1;33m)\u001b[0m\u001b[1;33m\u001b[0m\u001b[1;33m\u001b[0m\u001b[0m\n",
      "\u001b[1;32m<ipython-input-115-68ef3c90d0cd>\u001b[0m in \u001b[0;36mbehaviors\u001b[1;34m(self)\u001b[0m\n\u001b[0;32m     19\u001b[0m \u001b[1;33m\u001b[0m\u001b[0m\n\u001b[0;32m     20\u001b[0m     \u001b[1;32mdef\u001b[0m \u001b[0mbehaviors\u001b[0m\u001b[1;33m(\u001b[0m\u001b[0mself\u001b[0m\u001b[1;33m)\u001b[0m\u001b[1;33m:\u001b[0m\u001b[1;33m\u001b[0m\u001b[1;33m\u001b[0m\u001b[0m\n\u001b[1;32m---> 21\u001b[1;33m         \u001b[0marrive\u001b[0m \u001b[1;33m=\u001b[0m \u001b[0mself\u001b[0m\u001b[1;33m.\u001b[0m\u001b[0marrive\u001b[0m\u001b[1;33m(\u001b[0m\u001b[0mself\u001b[0m\u001b[1;33m.\u001b[0m\u001b[0mtarget\u001b[0m\u001b[1;33m)\u001b[0m\u001b[1;33m\u001b[0m\u001b[1;33m\u001b[0m\u001b[0m\n\u001b[0m\u001b[0;32m     22\u001b[0m         \u001b[0mself\u001b[0m\u001b[1;33m.\u001b[0m\u001b[0mapply_force\u001b[0m\u001b[1;33m(\u001b[0m\u001b[0marrive\u001b[0m\u001b[1;33m)\u001b[0m\u001b[1;33m\u001b[0m\u001b[1;33m\u001b[0m\u001b[0m\n\u001b[0;32m     23\u001b[0m \u001b[1;33m\u001b[0m\u001b[0m\n",
      "\u001b[1;32m<ipython-input-115-68ef3c90d0cd>\u001b[0m in \u001b[0;36marrive\u001b[1;34m(self, target)\u001b[0m\n\u001b[0;32m     31\u001b[0m         \u001b[1;32mif\u001b[0m \u001b[0mmag\u001b[0m \u001b[1;33m<\u001b[0m \u001b[1;36m5\u001b[0m\u001b[1;33m:\u001b[0m\u001b[1;33m\u001b[0m\u001b[1;33m\u001b[0m\u001b[0m\n\u001b[0;32m     32\u001b[0m             \u001b[0mspeed\u001b[0m \u001b[1;33m=\u001b[0m \u001b[0mmag\u001b[0m \u001b[1;33m/\u001b[0m \u001b[1;36m5\u001b[0m \u001b[1;33m*\u001b[0m \u001b[0mself\u001b[0m\u001b[1;33m.\u001b[0m\u001b[0mmax_speed\u001b[0m\u001b[1;33m\u001b[0m\u001b[1;33m\u001b[0m\u001b[0m\n\u001b[1;32m---> 33\u001b[1;33m         \u001b[0mscale\u001b[0m \u001b[1;33m=\u001b[0m \u001b[0mspeed\u001b[0m \u001b[1;33m/\u001b[0m \u001b[0mmag\u001b[0m\u001b[1;33m\u001b[0m\u001b[1;33m\u001b[0m\u001b[0m\n\u001b[0m\u001b[0;32m     34\u001b[0m         \u001b[1;32mfor\u001b[0m \u001b[0mi\u001b[0m\u001b[1;33m,\u001b[0m \u001b[0mval\u001b[0m \u001b[1;32min\u001b[0m \u001b[0menumerate\u001b[0m\u001b[1;33m(\u001b[0m\u001b[0mraw\u001b[0m\u001b[1;33m)\u001b[0m\u001b[1;33m:\u001b[0m\u001b[1;33m\u001b[0m\u001b[1;33m\u001b[0m\u001b[0m\n\u001b[0;32m     35\u001b[0m             \u001b[0mraw\u001b[0m\u001b[1;33m[\u001b[0m\u001b[0mi\u001b[0m\u001b[1;33m]\u001b[0m \u001b[1;33m*=\u001b[0m \u001b[0mscale\u001b[0m\u001b[1;33m\u001b[0m\u001b[1;33m\u001b[0m\u001b[0m\n",
      "\u001b[1;31mZeroDivisionError\u001b[0m: float division by zero"
     ]
    }
   ],
   "source": [
    "height, width = (300, 600)\n",
    "canvas = np.zeros((height, width))\n",
    "cv2.putText(canvas, 'train', (100, 150), cv2.FONT_HERSHEY_SIMPLEX, 4, (255, 0, 0), 12)\n",
    "\n",
    "points = text_to_points(canvas)\n",
    "vehicles = []\n",
    "for point in points:\n",
    "    vehicle = Vehicle(point[0], point[1])\n",
    "    vehicles.append(vehicle)\n",
    "    \n",
    "while True:\n",
    "    canvas = np.zeros((height, width))\n",
    "    for i, vehicle in enumerate(vehicles):\n",
    "        vehicle.behaviors()\n",
    "        vehicle.update()\n",
    "        vehicle.draw(canvas)\n",
    "        \n",
    "    cv2.imshow('canvas', canvas)\n",
    "    k = cv2.waitKey(300) & 0xFF\n",
    "    if k == ord('q'):\n",
    "        break\n",
    "cv2.destroyAllWindows()"
   ]
  },
  {
   "cell_type": "code",
   "execution_count": null,
   "metadata": {},
   "outputs": [],
   "source": []
  }
 ],
 "metadata": {
  "kernelspec": {
   "display_name": "'Python Interactive'",
   "language": "python",
   "name": "b1f5ecc2-9402-4694-868a-a87391986ff5"
  },
  "language_info": {
   "codemirror_mode": {
    "name": "ipython",
    "version": 3
   },
   "file_extension": ".py",
   "mimetype": "text/x-python",
   "name": "python",
   "nbconvert_exporter": "python",
   "pygments_lexer": "ipython3",
   "version": "3.6.8"
  }
 },
 "nbformat": 4,
 "nbformat_minor": 2
}
