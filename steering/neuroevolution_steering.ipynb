{
 "cells": [
  {
   "cell_type": "code",
   "execution_count": 1,
   "metadata": {},
   "outputs": [],
   "source": [
    "import math\n",
    "import numpy as np\n",
    "import time as time\n",
    "import random as rand\n",
    "import cv2"
   ]
  },
  {
   "cell_type": "code",
   "execution_count": 20,
   "metadata": {},
   "outputs": [],
   "source": [
    "class Sensor:\n",
    "    def __init__(self, rot=0): # rot relative to line: y = 0\n",
    "        self.rot = rot % 360\n",
    "        self.max_range = 50\n",
    "        \n",
    "    def rotate(self, rot):\n",
    "        self.rot = (self.rot + rot) % 360\n",
    "        \n",
    "    def get_slope(self):\n",
    "        if self.rot == 90:\n",
    "            return None\n",
    "        return math.tan(math.radians(self.rot))\n",
    "        \n",
    "    def draw(self, x, y, canvas): #x, y are offsets for the line\n",
    "        slope = self.get_slope()\n",
    "        rot_x = -self.max_range * math.cos(math.radians(self.rot))\n",
    "        rot_y = -self.max_range * math.sin(math.radians(self.rot))\n",
    "        end_x = x + rot_x\n",
    "        end_y = y + rot_y\n",
    "        cv2.line(canvas, (int(x), int(y)), (int(end_x), int(end_y)), (255, 0, 0), 1)"
   ]
  },
  {
   "cell_type": "code",
   "execution_count": 41,
   "metadata": {},
   "outputs": [],
   "source": [
    "class Vehicle:\n",
    "    def __init__(self, x, y, r=10):\n",
    "        self.x = x\n",
    "        self.y = y\n",
    "        self.radius = r\n",
    "        \n",
    "        # assume facing upwards initially\n",
    "        self.sensors = [Sensor(rot=90), Sensor(rot=30), Sensor(rot=60), Sensor(rot=120), Sensor(150)]\n",
    "        \n",
    "        # motion\n",
    "        self.vel = [0, 1]\n",
    "        self.acc = [0, 0]\n",
    "        \n",
    "    def rotate(self, rot):\n",
    "        for sensor in self.sensors:\n",
    "            sensor.rotate(rot)\n",
    "            \n",
    "    def update(self):\n",
    "        rot = rand.uniform(-30, 10)\n",
    "        self.rotate(rot)\n",
    "        \n",
    "        acc = [-1 * math.cos(math.radians(self.sensors[0].rot)), -1 * math.sin(math.radians(self.sensors[0].rot))]\n",
    "        \n",
    "        self.acc = [a1 + a2 for a1, a2 in zip(self.acc, acc)]\n",
    "        self.vel = [v1 + a1 for v1, a1 in zip(self.vel, self.acc)]\n",
    "        self.x = self.x + self.vel[0]\n",
    "        self.y = self.y + self.vel[1]\n",
    "        \n",
    "        # reset\n",
    "        self.acc = [0, 0]\n",
    "        \n",
    "    def draw(self, canvas):\n",
    "        cv2.circle(canvas, (int(self.x), int(self.y)), self.radius, (255, 0, 0), -1)\n",
    "        for sensor in self.sensors:\n",
    "            sensor.draw(self.x, self.y, canvas)\n",
    "        "
   ]
  },
  {
   "cell_type": "code",
   "execution_count": 42,
   "metadata": {},
   "outputs": [],
   "source": [
    "vehicle = Vehicle(100, 200)\n",
    "\n",
    "while True:\n",
    "    canvas = np.zeros((300, 800))       \n",
    "    \n",
    "    vehicle.draw(canvas)\n",
    "    cv2.imshow('canvas', canvas)\n",
    "    \n",
    "    vehicle.update()\n",
    "    \n",
    "    k = cv2.waitKey(30) & 0xFF\n",
    "    if k == ord('q'):\n",
    "        break\n",
    "\n",
    "cv2.destroyAllWindows()"
   ]
  },
  {
   "cell_type": "code",
   "execution_count": null,
   "metadata": {},
   "outputs": [],
   "source": []
  },
  {
   "cell_type": "code",
   "execution_count": null,
   "metadata": {},
   "outputs": [],
   "source": []
  }
 ],
 "metadata": {
  "kernelspec": {
   "display_name": "'Python Interactive'",
   "language": "python",
   "name": "b1f5ecc2-9402-4694-868a-a87391986ff5"
  },
  "language_info": {
   "codemirror_mode": {
    "name": "ipython",
    "version": 3
   },
   "file_extension": ".py",
   "mimetype": "text/x-python",
   "name": "python",
   "nbconvert_exporter": "python",
   "pygments_lexer": "ipython3",
   "version": "3.6.8"
  }
 },
 "nbformat": 4,
 "nbformat_minor": 2
}
