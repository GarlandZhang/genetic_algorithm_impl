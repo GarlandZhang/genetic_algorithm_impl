{
 "cells": [
  {
   "cell_type": "code",
   "execution_count": 4,
   "metadata": {},
   "outputs": [],
   "source": [
    "import glob\n",
    "import os\n",
    "import sys\n",
    "import random\n",
    "import time\n",
    "import numpy as np\n",
    "import cv2"
   ]
  },
  {
   "cell_type": "code",
   "execution_count": 5,
   "metadata": {},
   "outputs": [],
   "source": [
    "sys.path.append('E:\\\\projects\\\\carla\\\\WindowsNoEditor\\\\PythonAPI\\\\carla\\\\dist\\\\carla-0.9.9-py3.7-win-amd64.egg')"
   ]
  },
  {
   "cell_type": "code",
   "execution_count": 6,
   "metadata": {},
   "outputs": [],
   "source": [
    "import carla"
   ]
  },
  {
   "cell_type": "code",
   "execution_count": 7,
   "metadata": {},
   "outputs": [],
   "source": [
    "def process_img(image):\n",
    "    img_flat = np.array(image.raw_data)\n",
    "    img = img_flat.reshape(IM_HEIGHT, IM_WIDTH, 4)\n",
    "    img = img[:, :, :3] # ignores alpha values (images have 4 channels: rgba)\n",
    "    cv2.imshow('', img)\n",
    "    cv2.waitKey(1)\n",
    "    return img / 255.0"
   ]
  },
  {
   "cell_type": "code",
   "execution_count": 8,
   "metadata": {},
   "outputs": [],
   "source": [
    "IM_WIDTH = 640\n",
    "IM_HEIGHT = 480"
   ]
  },
  {
   "cell_type": "code",
   "execution_count": 9,
   "metadata": {},
   "outputs": [
    {
     "name": "stdout",
     "output_type": "stream",
     "text": [
      "ActorBlueprint(id=vehicle.tesla.model3,tags=[vehicle, tesla, model3])\n"
     ]
    }
   ],
   "source": [
    "actor_list = []\n",
    "\n",
    "try:\n",
    "    # set up client\n",
    "    client = carla.Client('localhost', 2000)\n",
    "    client.set_timeout(2.0)\n",
    "    \n",
    "    # set up vehicle\n",
    "    world = client.get_world()\n",
    "    blueprint_library = world.get_blueprint_library()\n",
    "    bp = blueprint_library.filter('model3')[0]\n",
    "    print(bp)\n",
    "    \n",
    "    spawn_point = random.choice(world.get_map().get_spawn_points())\n",
    "    \n",
    "    vehicle = world.spawn_actor(bp, spawn_point)\n",
    "#     vehicle.set_autopilot(True)\n",
    "\n",
    "    vehicle.apply_control(carla.VehicleControl(throttle=1.0, steer=0.0))\n",
    "    actor_list.append(vehicle)\n",
    "    \n",
    "    # set up camera sensor\n",
    "    cam_bp = blueprint_library.find('sensor.camera.rgb')\n",
    "    cam_bp.set_attribute('image_size_x', f'{IM_WIDTH}')\n",
    "    cam_bp.set_attribute('image_size_y', f'{IM_HEIGHT}')\n",
    "    cam_bp.set_attribute('fov', '110')\n",
    "    \n",
    "    # place camera onto car\n",
    "    spawn_point = carla.Transform(carla.Location(x=2.5, z=0.7))\n",
    "    sensor = world.spawn_actor(cam_bp, spawn_point, attach_to=vehicle)\n",
    "    actor_list.append(sensor)\n",
    "    sensor.listen(lambda data: process_img(data))\n",
    "finally:\n",
    "    pass"
   ]
  },
  {
   "cell_type": "code",
   "execution_count": 16,
   "metadata": {},
   "outputs": [
    {
     "name": "stdout",
     "output_type": "stream",
     "text": [
      "All cleaned up!\n"
     ]
    }
   ],
   "source": [
    "# clean up\n",
    "for actor in actor_list:\n",
    "    actor.destroy()\n",
    "print('All cleaned up!')"
   ]
  },
  {
   "cell_type": "code",
   "execution_count": null,
   "metadata": {},
   "outputs": [],
   "source": [
    "cv2.destroyAllWindows()"
   ]
  },
  {
   "cell_type": "code",
   "execution_count": null,
   "metadata": {},
   "outputs": [],
   "source": []
  }
 ],
 "metadata": {
  "kernelspec": {
   "display_name": "Python 3",
   "language": "python",
   "name": "python3"
  },
  "language_info": {
   "codemirror_mode": {
    "name": "ipython",
    "version": 3
   },
   "file_extension": ".py",
   "mimetype": "text/x-python",
   "name": "python",
   "nbconvert_exporter": "python",
   "pygments_lexer": "ipython3",
   "version": "3.7.4"
  }
 },
 "nbformat": 4,
 "nbformat_minor": 2
}
